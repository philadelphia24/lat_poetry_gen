{
 "cells": [
  {
   "cell_type": "markdown",
   "id": "bd650fc2-01bc-4c87-81e5-47f2fa2be6a2",
   "metadata": {},
   "source": [
    "## 1. Testing the CLTK macronizer"
   ]
  },
  {
   "cell_type": "code",
   "execution_count": 1,
   "id": "8a6777b5-6adb-4104-8f21-f94f9f5e3c14",
   "metadata": {},
   "outputs": [],
   "source": [
    "from cltk.prosody.lat.macronizer import Macronizer"
   ]
  },
  {
   "cell_type": "code",
   "execution_count": 2,
   "id": "00e31ccf-8de9-473e-8f14-60a543354a40",
   "metadata": {},
   "outputs": [],
   "source": [
    "# Initialize the Macronizer instance\n",
    "macronizer = Macronizer(tagger=\"tag_ngram_123_backoff\")"
   ]
  },
  {
   "cell_type": "code",
   "execution_count": 27,
   "id": "987cdd51-885e-4ffd-93b4-633134c53d81",
   "metadata": {},
   "outputs": [
    {
     "name": "stdout",
     "output_type": "stream",
     "text": [
      "Macronized words:\n",
      "vērō\n",
      "dīcēbātur\n",
      "subiectis\n",
      "essent\n",
      "ōrātiōnem\n",
      "integra\n",
      "dēprehēnsus\n",
      "zizania\n",
      "comprehendat\n",
      "vēnērunt\n",
      "diuisione\n",
      "sublīmis\n"
     ]
    }
   ],
   "source": [
    "words = [\"vero\", \n",
    "         \"dicebatur\", \n",
    "         \"subiectis\",\n",
    "         \"essent\",\n",
    "         \"orationem\", # idx: 6173\n",
    "         \"integra\", # idx: 6176\n",
    "         \"deprehensus\", # idx: 6735\n",
    "         \"zizania\",# idx: 8597\n",
    "         \"comprehendat\",\n",
    "         \"venerunt\",\n",
    "         \"diuisione\", # idx: 19980,\n",
    "         \"sublimis\" # idx: 11967\n",
    "        ]\n",
    "print(\"Macronized words:\")\n",
    "for word in words:\n",
    "    macronized_word = macronizer.macronize_text(word) \n",
    "    print(macronized_word)"
   ]
  },
  {
   "cell_type": "markdown",
   "id": "e7a895f8-c0a4-4887-8cfa-05b97804fdf8",
   "metadata": {},
   "source": [
    "## 2. Testing CLTK scansion tool"
   ]
  },
  {
   "cell_type": "code",
   "execution_count": 3,
   "id": "a42ca48d-9331-45fc-9abb-788a27df7e04",
   "metadata": {},
   "outputs": [],
   "source": [
    "from cltk.prosody.lat.hexameter_scanner import HexameterScanner"
   ]
  },
  {
   "cell_type": "code",
   "execution_count": 4,
   "id": "c21badb9-6fc5-4a73-abe6-00e9e623932a",
   "metadata": {},
   "outputs": [],
   "source": [
    "scanner = HexameterScanner()"
   ]
  },
  {
   "cell_type": "code",
   "execution_count": 9,
   "id": "f4eeabe0-1058-4d84-bce9-567af568a810",
   "metadata": {},
   "outputs": [
    {
     "name": "stdout",
     "output_type": "stream",
     "text": [
      "-U    UU    -  U U     U U   UU -   -   - \n"
     ]
    }
   ],
   "source": [
    "print(HexameterScanner().scan(\n",
    "\"ueram uitam extulit , habitu uelut nostrā \").scansion) "
   ]
  },
  {
   "cell_type": "code",
   "execution_count": 8,
   "id": "eea20e01-fdf0-48b3-aca8-91cee0ab2a9b",
   "metadata": {},
   "outputs": [
    {
     "name": "stdout",
     "output_type": "stream",
     "text": [
      " - -   -    -  - -     - - -  U U   -   - \n"
     ]
    }
   ],
   "source": [
    "print(HexameterScanner().scan(\n",
    "\"veram vitam extulit , habitu velut nostrā \").scansion) "
   ]
  },
  {
   "cell_type": "markdown",
   "id": "eb5b44b8-94cf-4e00-928d-ca278bca9942",
   "metadata": {},
   "source": [
    "=> It seems that the non-normalized version is scanned more correctly."
   ]
  },
  {
   "cell_type": "markdown",
   "id": "90c14c45-997c-401a-957c-45e618b7bfb3",
   "metadata": {},
   "source": [
    "#### Breve"
   ]
  },
  {
   "cell_type": "code",
   "execution_count": 20,
   "id": "e15badec-ead2-4211-8882-9803767215b6",
   "metadata": {},
   "outputs": [
    {
     "name": "stdout",
     "output_type": "stream",
     "text": [
      "\n"
     ]
    }
   ],
   "source": [
    "print(HexameterScanner().scan(\n",
    "\"nōvit glōrĭam . quīdem ūnde etĭam vīta\").scansion) "
   ]
  },
  {
   "cell_type": "code",
   "execution_count": 21,
   "id": "1cb6d2df-b77e-4645-ad9e-18dff7e4abf8",
   "metadata": {},
   "outputs": [
    {
     "name": "stdout",
     "output_type": "stream",
     "text": [
      " - -    - --      - -  -    - UU   - U\n"
     ]
    }
   ],
   "source": [
    "print(HexameterScanner().scan(\n",
    "\"nōvit glōriam . quīdem ūnde etiam vīta\").scansion) "
   ]
  },
  {
   "cell_type": "markdown",
   "id": "cf5f0ef5-bfa8-42e0-82eb-dbbf8d2218cc",
   "metadata": {},
   "source": [
    "=> There seems to be an issue with short macrons"
   ]
  },
  {
   "cell_type": "markdown",
   "id": "aebad7be-abe1-4818-903f-31ab21508f53",
   "metadata": {},
   "source": [
    "#### Elisions"
   ]
  },
  {
   "cell_type": "code",
   "execution_count": 16,
   "id": "54ea7446-68c8-4f73-aa07-51005b780713",
   "metadata": {},
   "outputs": [
    {
     "name": "stdout",
     "output_type": "stream",
     "text": [
      " -  -    -   -  -    - -   -  U U  -  U\n"
     ]
    }
   ],
   "source": [
    "print(HexameterScanner().scan(\n",
    "\"mātrī , sīve īllīs quībus dīgnatur īpse\").scansion) "
   ]
  },
  {
   "cell_type": "markdown",
   "id": "f2c95337-2a4d-4ba5-92de-609c0b25aac1",
   "metadata": {},
   "source": [
    "=> This only yields 12 (12 is ok).\n",
    "* But there is an elision: sive --> illis\n",
    "\n",
    "\"valid = False\" when:\n",
    "*  if verse.syllable_count < 12:\n",
    "            verse.valid = False\n",
    "* verse.scansion = self.produce_scansion(stresses, syllables_wspaces, offset_map)\n",
    "        if len(\n",
    "            string_utils.stress_positions(self.constants.STRESSED, verse.scansion)\n",
    "        ) != len(set(stresses)):\n",
    "            verse.valid = False\n",
    "            verse.scansion_notes += [self.constants.NOTE_MAP[\"invalid syllables\"]]\n",
    "            return verse\n",
    "\n",
    "  => **Compares the number of stressed syllables in the scansion the tool generates to the number of unique stresses that are provided in the line.**\n",
    "\n",
    "Source: https://docs.cltk.org/en/latest/_modules/cltk/prosody/lat/hexameter_scanner.html#HexameterScanner\n"
   ]
  },
  {
   "cell_type": "code",
   "execution_count": 26,
   "id": "60d1c693-67de-4e44-bd9f-1673f229c79b",
   "metadata": {},
   "outputs": [
    {
     "name": "stdout",
     "output_type": "stream",
     "text": [
      " -        -  -      -  -     -  -      -  - U  U -   U \n",
      "True\n"
     ]
    }
   ],
   "source": [
    "verse = scanner.scan(\"monstrum horrendum, informe, ingens, cui lumen ademptum\")\n",
    "print(verse.scansion)\n",
    "print(verse.valid)     "
   ]
  },
  {
   "cell_type": "code",
   "execution_count": 29,
   "id": "9edc9b47-5300-41c8-91f8-c90c2d921f77",
   "metadata": {},
   "outputs": [
    {
     "name": "stdout",
     "output_type": "stream",
     "text": [
      "-       --  -     U U U    U -     -  U U  - U\n",
      "False\n"
     ]
    }
   ],
   "source": [
    "verse = scanner.scan(\"īpsum , eūntēs , vivite , pater , cūrrite bona\")\n",
    "print(verse.scansion)\n",
    "print(verse.valid)     "
   ]
  },
  {
   "cell_type": "code",
   "execution_count": 55,
   "id": "4c24c90f-5663-4e99-a864-0afb349b494b",
   "metadata": {},
   "outputs": [
    {
     "name": "stdout",
     "output_type": "stream",
     "text": [
      " -  -    -   -  -    - -   -  U U  -  U\n",
      "False\n"
     ]
    }
   ],
   "source": [
    "verse = scanner.scan(\"mātrī , sīve īllīs quībus dīgnatur īpse\")\n",
    "print(verse.scansion)\n",
    "print(verse.valid)     "
   ]
  },
  {
   "cell_type": "code",
   "execution_count": 60,
   "id": "40f26546-5123-43ba-8e7b-684d2d3f9407",
   "metadata": {},
   "outputs": [
    {
     "name": "stdout",
     "output_type": "stream",
     "text": [
      "  - -    - - -   -  -   - -   - - -   -   U \n",
      "False\n"
     ]
    }
   ],
   "source": [
    "verse = scanner.scan(\"quīdem spīritus patris , nisi spīritus sānctus\")\n",
    "print(verse.scansion)\n",
    "print(verse.valid)     "
   ]
  },
  {
   "cell_type": "code",
   "execution_count": 66,
   "id": "b8663c83-950b-41e6-869b-f8498742ece5",
   "metadata": {},
   "outputs": [
    {
     "name": "stdout",
     "output_type": "stream",
     "text": [
      " - -   -  U     UU  - U U   -  --     - U\n",
      "False\n"
     ]
    }
   ],
   "source": [
    "verse = scanner.scan(\"vōbīs mūlta , quīa tālibus hōstiis , sīve\")\n",
    "print(verse.scansion)\n",
    "print(verse.valid)     "
   ]
  },
  {
   "cell_type": "markdown",
   "id": "26f27581-958b-4d1a-9436-72bbc2747b22",
   "metadata": {},
   "source": [
    "=> The breves are not identified."
   ]
  },
  {
   "cell_type": "code",
   "execution_count": 58,
   "id": "f96fe56d-c72d-49c7-b3c6-2116fdac8e11",
   "metadata": {},
   "outputs": [
    {
     "name": "stdout",
     "output_type": "stream",
     "text": [
      "Original: mātrī sīve īllīs quībus dīgnatur īpse\n",
      "Scansion:  -  -  -   -  -    - -   -  U U  -  U\n",
      "Meter: hexameter\n",
      "Valid: False\n",
      "\n",
      "All attributes of the Verse object:\n",
      "accented: \n",
      "meter: hexameter\n",
      "original: mātrī sīve īllīs quībus dīgnatur īpse\n",
      "scansion:  -  -  -   -  -    - -   -  U U  -  U\n",
      "scansion_notes: ['Inverted amphibrachs corrected.']\n",
      "syllable_count: 12\n",
      "syllables: ['mā', 'trī', 'sīv', 'īl', 'līs', 'qui', 'būs', 'dī', 'gna', 'tur', 'īp', 'se']\n",
      "valid: False\n",
      "working_line: mātrī sīv  īllīs quibūs dīgnatur īpse\n",
      "\n",
      "Analysis of scansion pattern:\n",
      "Foot 1:  -\n",
      "Foot 2:   \n",
      "Foot 3: - \n",
      "Foot 4:  -\n",
      "Foot 5:   \n",
      "Foot 6:  -\n",
      "Foot 7:   \n",
      "Foot 8: - \n",
      "Foot 9:   \n",
      "Foot 10:  -\n",
      "Foot 11:  -\n",
      "Foot 12:   \n",
      "Foot 13:  -\n",
      "Foot 14:   \n",
      "Foot 15: U \n",
      "Foot 16: U \n",
      "Foot 17:  -\n",
      "Foot 18:   \n",
      "Foot 19: U\n",
      "Last foot is anceps (as expected in hexameter)\n",
      "\n",
      "Long syllables: 9\n",
      "Short syllables: 3\n",
      "Total syllables: 12\n",
      "Warning: A proper hexameter should have 17 syllables (including the anceps)\n"
     ]
    }
   ],
   "source": [
    "verse = scanner.scan(\"mātrī sīve īllīs quībus dīgnatur īpse\")\n",
    "\n",
    "print(\"Original:\", verse.original)\n",
    "print(\"Scansion:\", verse.scansion)\n",
    "print(\"Meter:\", verse.meter)\n",
    "print(\"Valid:\", verse.valid)\n",
    "\n",
    "# Print all available attributes\n",
    "print(\"\\nAll attributes of the Verse object:\")\n",
    "for attr in dir(verse):\n",
    "    if not attr.startswith('__'):\n",
    "        try:\n",
    "            value = getattr(verse, attr)\n",
    "            print(f\"{attr}: {value}\")\n",
    "        except:\n",
    "            print(f\"{attr}: <unable to retrieve>\")\n",
    "\n",
    "# Analyze the scansion pattern\n",
    "print(\"\\nAnalysis of scansion pattern:\")\n",
    "feet = [verse.scansion[i:i+2] for i in range(0, len(verse.scansion), 2)]\n",
    "for i, foot in enumerate(feet, 1):\n",
    "    print(f\"Foot {i}: {foot}\")\n",
    "\n",
    "# Check if the last foot is anceps (allows both long and short)\n",
    "if verse.scansion.endswith('U') or verse.scansion.endswith('X'):\n",
    "    print(\"Last foot is anceps (as expected in hexameter)\")\n",
    "else:\n",
    "    print(\"Last foot is not anceps\")\n",
    "\n",
    "# Count long and short syllables\n",
    "long_syllables = verse.scansion.count('-')\n",
    "short_syllables = verse.scansion.count('U')\n",
    "print(f\"\\nLong syllables: {long_syllables}\")\n",
    "print(f\"Short syllables: {short_syllables}\")\n",
    "\n",
    "# Check total number of syllables\n",
    "total_syllables = long_syllables + short_syllables\n",
    "print(f\"Total syllables: {total_syllables}\")\n",
    "if total_syllables != 17:\n",
    "    print(\"Warning: A proper hexameter should have 17 syllables (including the anceps)\")"
   ]
  },
  {
   "cell_type": "markdown",
   "id": "0ae6303e-58dc-4cda-8d9d-977df8bfba7f",
   "metadata": {},
   "source": [
    "#### Poetry generation with poetry data with CLTK"
   ]
  },
  {
   "cell_type": "code",
   "execution_count": 5,
   "id": "04f72b16-1076-4192-8a37-8a7d7a8b56ac",
   "metadata": {},
   "outputs": [
    {
     "name": "stdout",
     "output_type": "stream",
     "text": [
      "  -  - - - -  -   - - - U U   -  U \n"
     ]
    }
   ],
   "source": [
    "print(HexameterScanner().scan(\n",
    "\"stat adoratas istrahelitarum formas\").scansion) "
   ]
  },
  {
   "cell_type": "code",
   "execution_count": 7,
   "id": "0b3a996b-88bb-4c3f-b5cf-6af8b86f9a1b",
   "metadata": {},
   "outputs": [
    {
     "name": "stdout",
     "output_type": "stream",
     "text": [
      " -  - -   -  - -  -- -     U U - U \n"
     ]
    }
   ],
   "source": [
    "print(HexameterScanner().scan(\n",
    "\"zephyros perpetuo uigor stheneleius\").scansion) "
   ]
  },
  {
   "cell_type": "code",
   "execution_count": 8,
   "id": "d7422156-bf83-4ae6-80cd-dd606a65c85b",
   "metadata": {},
   "outputs": [
    {
     "name": "stdout",
     "output_type": "stream",
     "text": [
      " -   U U -U U  - U   U -   U U   -  U  U  -  U \n"
     ]
    }
   ],
   "source": [
    "print(HexameterScanner().scan(\n",
    "\"non deteriore pyras silex mihi crescit ad undas\").scansion) "
   ]
  }
 ],
 "metadata": {
  "kernelspec": {
   "display_name": "Python 3 (ipykernel)",
   "language": "python",
   "name": "python3"
  },
  "language_info": {
   "codemirror_mode": {
    "name": "ipython",
    "version": 3
   },
   "file_extension": ".py",
   "mimetype": "text/x-python",
   "name": "python",
   "nbconvert_exporter": "python",
   "pygments_lexer": "ipython3",
   "version": "3.9.18"
  }
 },
 "nbformat": 4,
 "nbformat_minor": 5
}
